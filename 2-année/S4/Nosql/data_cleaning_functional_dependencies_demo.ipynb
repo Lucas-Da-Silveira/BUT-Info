{
  "nbformat": 4,
  "nbformat_minor": 0,
  "metadata": {
    "colab": {
      "provenance": []
    },
    "kernelspec": {
      "name": "python3",
      "display_name": "Python 3"
    },
    "language_info": {
      "name": "python"
    }
  },
  "cells": [
    {
      "cell_type": "code",
      "execution_count": null,
      "metadata": {
        "id": "zPxaoTngkY55"
      },
      "outputs": [],
      "source": [
        "%pip install semantic-link\n",
        "%pip install pyspark\n",
        "%pip install azure-keyvault-secrets==4.7.0\n",
        "%pip install azure-identity\n",
        "%pip install azure-mgmt-resource\n",
        "%pip install azure-storage-blob\n",
        "%pip install azure-core"
      ]
    },
    {
      "cell_type": "code",
      "source": [
        "import pandas as pd\n",
        "import sempy.fabric as fabric\n",
        "from sempy.fabric import FabricDataFrame\n",
        "from sempy.dependencies import plot_dependency_metadata\n",
        "from sempy.samples import download_synthea"
      ],
      "metadata": {
        "id": "XK6vR6KOkaRf"
      },
      "execution_count": null,
      "outputs": []
    },
    {
      "cell_type": "code",
      "source": [
        "download_synthea(which='small')"
      ],
      "metadata": {
        "id": "RgAL8dxSksQP"
      },
      "execution_count": null,
      "outputs": []
    },
    {
      "cell_type": "markdown",
      "source": [
        "## Explorer les données"
      ],
      "metadata": {
        "id": "vA9yb0t-muBj"
      }
    },
    {
      "cell_type": "code",
      "source": [
        "providers = FabricDataFrame(pd.read_csv(\"synthea/csv/providers.csv\"))\n",
        "providers.head()"
      ],
      "metadata": {
        "id": "RIxoRGI6mogo"
      },
      "execution_count": null,
      "outputs": []
    },
    {
      "cell_type": "code",
      "source": [
        "providers.shape"
      ],
      "metadata": {
        "colab": {
          "base_uri": "https://localhost:8080/"
        },
        "id": "Jo9ELnFjmxQn",
        "outputId": "d84435fd-02a0-41f5-9c36-4f5ff2c57f21"
      },
      "execution_count": null,
      "outputs": [
        {
          "output_type": "execute_result",
          "data": {
            "text/plain": [
              "(5855, 12)"
            ]
          },
          "metadata": {},
          "execution_count": 4
        }
      ]
    },
    {
      "cell_type": "markdown",
      "source": [
        "### Vérifiez les problèmes de qualité des données avec la fonction find_dependencies de SemPy en traçant un graphique des dépendances fonctionnelles détectées automatiquement :"
      ],
      "metadata": {
        "id": "GRbUaSx1m9k-"
      }
    },
    {
      "cell_type": "code",
      "source": [
        "deps = providers.find_dependencies()\n",
        "plot_dependency_metadata(deps)"
      ],
      "metadata": {
        "id": "-Rf1cmWsm2ll"
      },
      "execution_count": null,
      "outputs": []
    },
    {
      "cell_type": "markdown",
      "source": [
        "### Le graphique des dépendances fonctionnelles montre que Id détermine le NOM et l'ORGANISATION (indiqués par les flèches pleines), ce qui est attendu puisque Id est unique :"
      ],
      "metadata": {
        "id": "eUypjSW_nLke"
      }
    },
    {
      "cell_type": "code",
      "source": [
        "providers.Id.is_unique"
      ],
      "metadata": {
        "id": "prg_3tBJnAtH"
      },
      "execution_count": null,
      "outputs": []
    },
    {
      "cell_type": "markdown",
      "source": [
        "## Analyser en profondeur les dépendances fonctionnelles"
      ],
      "metadata": {
        "id": "wS84EzyTnbJD"
      }
    },
    {
      "cell_type": "markdown",
      "source": [
        "Le graphique des dépendances fonctionnelles montre également que ORGANIZATION détermine ADDRESS et ZIP, comme prévu. Cependant, vous pouvez vous attendre à ce que ZIP détermine également CITY, mais la flèche en pointillé indique que la dépendance n'est qu'approximative, pointant vers un problème de qualité des données.\n",
        "\n",
        "Il y a d'autres particularités dans le graphique. Par exemple, NOM ne détermine pas le SEXE, l'ID, la SPÉCIALITÉ ou l'ORGANISATION. Chacun de ces éléments mériterait peut-être d’être étudié.\n",
        "\n",
        "Examinez de plus près la relation approximative entre ZIP et CITY, en utilisant la fonction list_dependency_violations de SemPy pour voir une liste tabulaire des violations :\n"
      ],
      "metadata": {
        "id": "vdA49bfTncQ4"
      }
    },
    {
      "cell_type": "code",
      "source": [
        "providers.list_dependency_violations('ZIP', 'CITY')"
      ],
      "metadata": {
        "id": "gZMn1Z9anPyL"
      },
      "execution_count": null,
      "outputs": []
    },
    {
      "cell_type": "code",
      "source": [
        "providers.plot_dependency_violations('ZIP', 'CITY')"
      ],
      "metadata": {
        "id": "yb8ToDV-npkK"
      },
      "execution_count": null,
      "outputs": []
    },
    {
      "cell_type": "markdown",
      "source": [
        "Le graphique des violations de dépendance affiche les valeurs de ZIP sur le côté gauche et les valeurs de CITY sur le côté droit. Une arête relie un code postal à gauche avec une ville à droite s'il existe une ligne contenant ces deux valeurs. Les bords sont annotés avec le nombre de ces lignes. Par exemple, il y a deux lignes avec le code postal 02747-1242, une ligne avec la ville « NORTH DARTHMOUTH » et l'autre avec la ville « DARTHMOUTH », comme indiqué dans le tracé précédent et le code suivant :"
      ],
      "metadata": {
        "id": "AUxoDmTxoAA5"
      }
    },
    {
      "cell_type": "code",
      "source": [
        "providers[providers.ZIP == '02747-1242'].CITY.value_counts()"
      ],
      "metadata": {
        "id": "ajS3h48mnxh1"
      },
      "execution_count": null,
      "outputs": []
    },
    {
      "cell_type": "markdown",
      "source": [
        "Le graphique montre également que parmi les lignes comportant CITY  \"DARTMOUTH\", neuf lignes ont un code postal de 02747-1262 ; une ligne a un code postal de 02747-1242  :"
      ],
      "metadata": {
        "id": "zyrUMclmoPGz"
      }
    },
    {
      "cell_type": "code",
      "source": [
        "providers[providers.CITY == 'DARTMOUTH'].ZIP.value_counts()\n"
      ],
      "metadata": {
        "id": "NWhX49YvoDSj"
      },
      "execution_count": null,
      "outputs": []
    },
    {
      "cell_type": "markdown",
      "source": [
        "En revenant au graphique des violations de dépendances, vous pouvez voir qu'il existe en fait plusieurs problèmes intéressants de qualité des données présents dans ce modèle sémantique :\n",
        "\n",
        "Certains noms de villes sont tous en majuscules. Ce problème est facile à résoudre à l’aide de méthodes de chaîne.\n",
        "\n",
        "\n",
        "Certains noms de villes comportent des qualificatifs (ou préfixes), tels que « Nord » et « Est ». Par exemple, le code postal « 2128 » correspond une fois à « EAST BOSTON » et une fois à « BOSTON ». Un problème similaire se produit entre « NORTH DARTHMOUTH » et « DARTHMOUTH ». Vous pouvez essayer de supprimer ces qualificatifs ou de mapper les codes postaux à la ville avec l'occurrence la plus courante.\n",
        "\n",
        "\n",
        "Il y a des fautes de frappe dans certaines villes, telles que \"PITTSFIELD\" contre \"PITTSFILED\" et \"NEWBURGPORT contre \"NEWBURYPORT\". Dans le cas de \"NEWBURGPORT\", cette faute de frappe peut être corrigée en utilisant l'occurrence la plus courante. Dans le cas de \" PITTSFIELD\", n'ayant qu'une seule occurrence chacune, il est beaucoup plus difficile de lever l'ambiguïté automatique sans connaissances externes ni utilisation d'un modèle de langage.\n",
        "Parfois, les préfixes comme « Ouest » sont abrégés en une seule lettre « W ». Cela pourrait potentiellement être résolu par un simple remplacement, si toutes les occurrences de « W » signifient « Ouest ».\n",
        "\n",
        "\n",
        "Le code postal \"02130\" correspond une fois à \"BOSTON\" et à \"Jamaica Plain\" une fois. Ce problème n’est pas facile à résoudre, mais s’il y avait plus de données, le mappage vers l’occurrence la plus courante pourrait être une solution potentielle."
      ],
      "metadata": {
        "id": "DWITyLFSovzR"
      }
    },
    {
      "cell_type": "markdown",
      "source": [
        "## Nettoyer les données"
      ],
      "metadata": {
        "id": "nqJsErS0pH97"
      }
    },
    {
      "cell_type": "markdown",
      "source": [
        "Résolvez les problèmes de majuscules en remplaçant toutes les majuscules par la casse du titre :"
      ],
      "metadata": {
        "id": "eXKcWKQUpMJ6"
      }
    },
    {
      "cell_type": "code",
      "source": [
        "providers['CITY'] = providers.CITY.str.title()"
      ],
      "metadata": {
        "id": "dqMQnT3_oTJt"
      },
      "execution_count": null,
      "outputs": []
    },
    {
      "cell_type": "markdown",
      "source": [
        "Exécutez à nouveau la détection des violations pour constater que certaines ambiguïtés ont disparu (le nombre de violations est plus petit) :"
      ],
      "metadata": {
        "id": "uNrc0JsxpVFB"
      }
    },
    {
      "cell_type": "code",
      "source": [
        "providers.list_dependency_violations('ZIP', 'CITY')"
      ],
      "metadata": {
        "id": "dlBJ2bFUpRZP"
      },
      "execution_count": null,
      "outputs": []
    },
    {
      "cell_type": "markdown",
      "source": [
        "À ce stade, vous pouvez affiner vos données plus manuellement, mais une tâche potentielle de nettoyage des données consiste à supprimer les lignes qui violent les contraintes fonctionnelles entre les colonnes des données, en utilisant la fonction drop_dependency_violations de SemPy.\n",
        "\n",
        "Pour chaque valeur de la variable déterminante, drop_dependency_violations fonctionne en sélectionnant la valeur la plus courante de la variable dépendante et en supprimant toutes les lignes avec d'autres valeurs. Vous ne devez appliquer cette opération que si vous êtes sûr que cette heuristique statistique conduira aux résultats corrects pour vos données. Sinon, vous devez écrire votre propre code pour gérer les violations détectées selon vos besoins."
      ],
      "metadata": {
        "id": "yAT0c8GYpfbt"
      }
    },
    {
      "cell_type": "code",
      "source": [
        "providers_clean = providers.drop_dependency_violations('ZIP', 'CITY')"
      ],
      "metadata": {
        "id": "jtNQZgWqpXRT"
      },
      "execution_count": null,
      "outputs": []
    },
    {
      "cell_type": "code",
      "source": [
        "providers_clean.list_dependency_violations('ZIP', 'CITY')"
      ],
      "metadata": {
        "id": "ODGj2DS0pnO6"
      },
      "execution_count": null,
      "outputs": []
    },
    {
      "cell_type": "markdown",
      "source": [
        "La liste vide montre qu'il n'y a plus de violations de la contrainte fonctionnelle CITY -> ZIP."
      ],
      "metadata": {
        "id": "UhRyhHm-ptRH"
      }
    },
    {
      "cell_type": "code",
      "source": [],
      "metadata": {
        "id": "RJSgjg3zppWi"
      },
      "execution_count": null,
      "outputs": []
    }
  ]
}